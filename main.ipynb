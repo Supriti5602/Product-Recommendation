{
 "cells": [
  {
   "cell_type": "markdown",
   "id": "5e34ad13",
   "metadata": {},
   "source": [
    "# ----x---- Product Recommendation ----x----"
   ]
  },
  {
   "cell_type": "markdown",
   "id": "65492481",
   "metadata": {},
   "source": [
    "--------------------------------------------------------------------------------------------------------------------"
   ]
  },
  {
   "cell_type": "markdown",
   "id": "ca40952c",
   "metadata": {},
   "source": [
    "Dataset Link - https://www.kaggle.com/datasets/irvifa/amazon-product-reviews"
   ]
  },
  {
   "cell_type": "code",
   "execution_count": 7,
   "id": "09ec2070-e059-4509-a03c-0aeeb68425eb",
   "metadata": {},
   "outputs": [],
   "source": [
    "import pandas as pd\n",
    "import numpy as np\n",
    "import seaborn as sns\n",
    "from matplotlib import pyplot as plt\n",
    "import warnings\n",
    "import os\n",
    "import importlib\n",
    "warnings.filterwarnings('ignore')\n",
    "sns.set_theme(color_codes=True)"
   ]
  },
  {
   "cell_type": "code",
   "execution_count": 8,
   "id": "d0ad8129-a5fe-418d-9c91-eeba0d071aa7",
   "metadata": {},
   "outputs": [],
   "source": [
    "# user-defined function to check library is installed or not, if not installed then it will install automatically at runtime.\n",
    "def check_and_install_library(library_name):\n",
    "    try:\n",
    "        importlib.import_module(library_name)\n",
    "        print(f\"{library_name} is already installed.\")\n",
    "    except ImportError:\n",
    "        print(f\"{library_name} is not installed. Installing...\")\n",
    "        try:\n",
    "            import pip\n",
    "            pip.main(['install', library_name])\n",
    "        except:\n",
    "            print(\"Error: Failed to install the library. Please install it manually.\")"
   ]
  },
  {
   "cell_type": "code",
   "execution_count": 9,
   "id": "0de3cd4e-efa1-4ad6-adc8-80256a380b01",
   "metadata": {},
   "outputs": [],
   "source": [
    "if 'amazon-product-reviews' not in os.listdir():\n",
    "  check_and_install_library('opendatasets')\n",
    "  import opendatasets as od\n",
    "  od.download('https://www.kaggle.com/datasets/irvifa/amazon-product-reviews')"
   ]
  },
  {
   "cell_type": "code",
   "execution_count": 10,
   "id": "4aa463cb-d79a-4025-a2fc-d64c2bc43e89",
   "metadata": {},
   "outputs": [],
   "source": [
    "#load the dataframe and set column name\n",
    "dataset=pd.read_csv('path of your csv file',names=['userId', 'productId','rating','timestamp'])"
   ]
  },
  {
   "cell_type": "code",
   "execution_count": 11,
   "id": "8d7b4b31-b0b7-4f53-a3d0-e03e0498b786",
   "metadata": {},
   "outputs": [
    {
     "data": {
      "text/plain": [
       "(7824482, 4)"
      ]
     },
     "execution_count": 11,
     "metadata": {},
     "output_type": "execute_result"
    }
   ],
   "source": [
    "dataset.shape"
   ]
  },
  {
   "cell_type": "code",
   "execution_count": 12,
   "id": "f4f2ab90-cb0d-4b32-9f25-473b4ee041e0",
   "metadata": {},
   "outputs": [
    {
     "data": {
      "text/plain": [
       "Index(['userId', 'productId', 'rating', 'timestamp'], dtype='object')"
      ]
     },
     "execution_count": 12,
     "metadata": {},
     "output_type": "execute_result"
    }
   ],
   "source": [
    "dataset.columns"
   ]
  },
  {
   "cell_type": "code",
   "execution_count": 13,
   "id": "391996d5-3da2-4036-be55-d610a81f8fc0",
   "metadata": {},
   "outputs": [],
   "source": [
    "e_data=dataset.sample(n=1564896,ignore_index=True)"
   ]
  },
  {
   "cell_type": "code",
   "execution_count": 14,
   "id": "7919725b-a92c-43f4-9311-040b735ab5bd",
   "metadata": {},
   "outputs": [],
   "source": [
    "#after taking samples drop df to release the memory occupied by entire dataframe\n",
    "del dataset"
   ]
  },
  {
   "cell_type": "code",
   "execution_count": 15,
   "id": "bbe7f8c7-5938-4ea3-b853-5328754c4d7e",
   "metadata": {},
   "outputs": [
    {
     "data": {
      "text/html": [
       "<div>\n",
       "<style scoped>\n",
       "    .dataframe tbody tr th:only-of-type {\n",
       "        vertical-align: middle;\n",
       "    }\n",
       "\n",
       "    .dataframe tbody tr th {\n",
       "        vertical-align: top;\n",
       "    }\n",
       "\n",
       "    .dataframe thead th {\n",
       "        text-align: right;\n",
       "    }\n",
       "</style>\n",
       "<table border=\"1\" class=\"dataframe\">\n",
       "  <thead>\n",
       "    <tr style=\"text-align: right;\">\n",
       "      <th></th>\n",
       "      <th>userId</th>\n",
       "      <th>productId</th>\n",
       "      <th>rating</th>\n",
       "      <th>timestamp</th>\n",
       "    </tr>\n",
       "  </thead>\n",
       "  <tbody>\n",
       "    <tr>\n",
       "      <th>0</th>\n",
       "      <td>AOBJ1Q85HLI1O</td>\n",
       "      <td>B00119T6NQ</td>\n",
       "      <td>5.0</td>\n",
       "      <td>1236556800</td>\n",
       "    </tr>\n",
       "    <tr>\n",
       "      <th>1</th>\n",
       "      <td>A2QO300UNDD6RE</td>\n",
       "      <td>B007Y61QV0</td>\n",
       "      <td>3.0</td>\n",
       "      <td>1370476800</td>\n",
       "    </tr>\n",
       "    <tr>\n",
       "      <th>2</th>\n",
       "      <td>A21I9UFX9P4MTV</td>\n",
       "      <td>B003DZ1684</td>\n",
       "      <td>5.0</td>\n",
       "      <td>1296000000</td>\n",
       "    </tr>\n",
       "    <tr>\n",
       "      <th>3</th>\n",
       "      <td>A20TUKI5YMQ9MI</td>\n",
       "      <td>B001W6Q6FY</td>\n",
       "      <td>1.0</td>\n",
       "      <td>1382832000</td>\n",
       "    </tr>\n",
       "    <tr>\n",
       "      <th>4</th>\n",
       "      <td>A2379DJ7GYLP8T</td>\n",
       "      <td>B002Y27P6O</td>\n",
       "      <td>1.0</td>\n",
       "      <td>1295222400</td>\n",
       "    </tr>\n",
       "  </tbody>\n",
       "</table>\n",
       "</div>"
      ],
      "text/plain": [
       "           userId   productId  rating   timestamp\n",
       "0   AOBJ1Q85HLI1O  B00119T6NQ     5.0  1236556800\n",
       "1  A2QO300UNDD6RE  B007Y61QV0     3.0  1370476800\n",
       "2  A21I9UFX9P4MTV  B003DZ1684     5.0  1296000000\n",
       "3  A20TUKI5YMQ9MI  B001W6Q6FY     1.0  1382832000\n",
       "4  A2379DJ7GYLP8T  B002Y27P6O     1.0  1295222400"
      ]
     },
     "execution_count": 15,
     "metadata": {},
     "output_type": "execute_result"
    }
   ],
   "source": [
    "#print top 5 records of the dataset\n",
    "e_data.head()"
   ]
  },
  {
   "cell_type": "code",
   "execution_count": 16,
   "id": "e9098500-cffd-4528-a30f-d371122b81ef",
   "metadata": {},
   "outputs": [
    {
     "name": "stdout",
     "output_type": "stream",
     "text": [
      "<class 'pandas.core.frame.DataFrame'>\n",
      "RangeIndex: 1564896 entries, 0 to 1564895\n",
      "Data columns (total 4 columns):\n",
      " #   Column     Non-Null Count    Dtype  \n",
      "---  ------     --------------    -----  \n",
      " 0   userId     1564896 non-null  object \n",
      " 1   productId  1564896 non-null  object \n",
      " 2   rating     1564896 non-null  float64\n",
      " 3   timestamp  1564896 non-null  int64  \n",
      "dtypes: float64(1), int64(1), object(2)\n",
      "memory usage: 47.8+ MB\n"
     ]
    }
   ],
   "source": [
    "#print the concise information of the dataset\n",
    "e_data.info()"
   ]
  },
  {
   "cell_type": "code",
   "execution_count": 17,
   "id": "b83eb743-5b14-4c16-8761-66383a40ceed",
   "metadata": {},
   "outputs": [],
   "source": [
    "e_data.drop('timestamp',axis=1,inplace=True)"
   ]
  },
  {
   "cell_type": "code",
   "execution_count": 18,
   "id": "d1e2dace-b847-464a-9fbf-ae39334af604",
   "metadata": {},
   "outputs": [
    {
     "data": {
      "text/html": [
       "<div>\n",
       "<style scoped>\n",
       "    .dataframe tbody tr th:only-of-type {\n",
       "        vertical-align: middle;\n",
       "    }\n",
       "\n",
       "    .dataframe tbody tr th {\n",
       "        vertical-align: top;\n",
       "    }\n",
       "\n",
       "    .dataframe thead th {\n",
       "        text-align: right;\n",
       "    }\n",
       "</style>\n",
       "<table border=\"1\" class=\"dataframe\">\n",
       "  <thead>\n",
       "    <tr style=\"text-align: right;\">\n",
       "      <th></th>\n",
       "      <th>rating</th>\n",
       "    </tr>\n",
       "  </thead>\n",
       "  <tbody>\n",
       "    <tr>\n",
       "      <th>count</th>\n",
       "      <td>1.564896e+06</td>\n",
       "    </tr>\n",
       "    <tr>\n",
       "      <th>mean</th>\n",
       "      <td>4.012593e+00</td>\n",
       "    </tr>\n",
       "    <tr>\n",
       "      <th>std</th>\n",
       "      <td>1.380867e+00</td>\n",
       "    </tr>\n",
       "    <tr>\n",
       "      <th>min</th>\n",
       "      <td>1.000000e+00</td>\n",
       "    </tr>\n",
       "    <tr>\n",
       "      <th>25%</th>\n",
       "      <td>3.000000e+00</td>\n",
       "    </tr>\n",
       "    <tr>\n",
       "      <th>50%</th>\n",
       "      <td>5.000000e+00</td>\n",
       "    </tr>\n",
       "    <tr>\n",
       "      <th>75%</th>\n",
       "      <td>5.000000e+00</td>\n",
       "    </tr>\n",
       "    <tr>\n",
       "      <th>max</th>\n",
       "      <td>5.000000e+00</td>\n",
       "    </tr>\n",
       "  </tbody>\n",
       "</table>\n",
       "</div>"
      ],
      "text/plain": [
       "             rating\n",
       "count  1.564896e+06\n",
       "mean   4.012593e+00\n",
       "std    1.380867e+00\n",
       "min    1.000000e+00\n",
       "25%    3.000000e+00\n",
       "50%    5.000000e+00\n",
       "75%    5.000000e+00\n",
       "max    5.000000e+00"
      ]
     },
     "execution_count": 18,
     "metadata": {},
     "output_type": "execute_result"
    }
   ],
   "source": [
    "e_data.describe()"
   ]
  },
  {
   "cell_type": "code",
   "execution_count": 19,
   "id": "ab4a53b8-4b01-422f-94f4-76c0e1f08066",
   "metadata": {},
   "outputs": [
    {
     "data": {
      "text/plain": [
       "userId       0\n",
       "productId    0\n",
       "rating       0\n",
       "dtype: int64"
      ]
     },
     "execution_count": 19,
     "metadata": {},
     "output_type": "execute_result"
    }
   ],
   "source": [
    "#handle missing values\n",
    "e_data.isnull().sum()"
   ]
  },
  {
   "cell_type": "code",
   "execution_count": 20,
   "id": "71d211be-bc1f-4403-9542-96e2a8f6f78b",
   "metadata": {},
   "outputs": [
    {
     "data": {
      "text/plain": [
       "0"
      ]
     },
     "execution_count": 20,
     "metadata": {},
     "output_type": "execute_result"
    }
   ],
   "source": [
    "#handling duplicate records\n",
    "e_data[e_data.duplicated()].shape[0]"
   ]
  },
  {
   "cell_type": "code",
   "execution_count": 21,
   "id": "5ec17f0e-566c-4833-821e-b48391498667",
   "metadata": {},
   "outputs": [
    {
     "data": {
      "text/html": [
       "<div>\n",
       "<style scoped>\n",
       "    .dataframe tbody tr th:only-of-type {\n",
       "        vertical-align: middle;\n",
       "    }\n",
       "\n",
       "    .dataframe tbody tr th {\n",
       "        vertical-align: top;\n",
       "    }\n",
       "\n",
       "    .dataframe thead th {\n",
       "        text-align: right;\n",
       "    }\n",
       "</style>\n",
       "<table border=\"1\" class=\"dataframe\">\n",
       "  <thead>\n",
       "    <tr style=\"text-align: right;\">\n",
       "      <th></th>\n",
       "      <th>userId</th>\n",
       "      <th>productId</th>\n",
       "      <th>rating</th>\n",
       "    </tr>\n",
       "  </thead>\n",
       "  <tbody>\n",
       "    <tr>\n",
       "      <th>0</th>\n",
       "      <td>AOBJ1Q85HLI1O</td>\n",
       "      <td>B00119T6NQ</td>\n",
       "      <td>5.0</td>\n",
       "    </tr>\n",
       "    <tr>\n",
       "      <th>1</th>\n",
       "      <td>A2QO300UNDD6RE</td>\n",
       "      <td>B007Y61QV0</td>\n",
       "      <td>3.0</td>\n",
       "    </tr>\n",
       "    <tr>\n",
       "      <th>2</th>\n",
       "      <td>A21I9UFX9P4MTV</td>\n",
       "      <td>B003DZ1684</td>\n",
       "      <td>5.0</td>\n",
       "    </tr>\n",
       "    <tr>\n",
       "      <th>3</th>\n",
       "      <td>A20TUKI5YMQ9MI</td>\n",
       "      <td>B001W6Q6FY</td>\n",
       "      <td>1.0</td>\n",
       "    </tr>\n",
       "    <tr>\n",
       "      <th>4</th>\n",
       "      <td>A2379DJ7GYLP8T</td>\n",
       "      <td>B002Y27P6O</td>\n",
       "      <td>1.0</td>\n",
       "    </tr>\n",
       "  </tbody>\n",
       "</table>\n",
       "</div>"
      ],
      "text/plain": [
       "           userId   productId  rating\n",
       "0   AOBJ1Q85HLI1O  B00119T6NQ     5.0\n",
       "1  A2QO300UNDD6RE  B007Y61QV0     3.0\n",
       "2  A21I9UFX9P4MTV  B003DZ1684     5.0\n",
       "3  A20TUKI5YMQ9MI  B001W6Q6FY     1.0\n",
       "4  A2379DJ7GYLP8T  B002Y27P6O     1.0"
      ]
     },
     "execution_count": 21,
     "metadata": {},
     "output_type": "execute_result"
    }
   ],
   "source": [
    "e_data.head()"
   ]
  },
  {
   "cell_type": "code",
   "execution_count": 22,
   "id": "9a42bef9-41ca-46d1-83de-27bd19372675",
   "metadata": {},
   "outputs": [
    {
     "data": {
      "image/png": "[encoded data removed]",
      "text/plain": [
       "<Figure size 1600x900 with 1 Axes>"
      ]
     },
     "metadata": {},
     "output_type": "display_data"
    }
   ],
   "source": [
    "plt.figure(figsize=(16,9))\n",
    "sns.countplot(x='rating',data=e_data)\n",
    "plt.title('Rating Distribution')\n",
    "plt.xlabel('Rating')\n",
    "plt.ylabel('Count')\n",
    "plt.grid()\n",
    "plt.show()"
   ]
  },
  {
   "cell_type": "code",
   "execution_count": 23,
   "id": "fed13e23-1d15-4c2d-a1d9-615eae3c3850",
   "metadata": {},
   "outputs": [
    {
     "name": "stdout",
     "output_type": "stream",
     "text": [
      "Total rating :  1564896\n",
      "Total unique users :  1226549\n",
      "Total unique products :  237745\n"
     ]
    }
   ],
   "source": [
    "print('Total rating : ',e_data.shape[0])\n",
    "print('Total unique users : ',e_data['userId'].unique().shape[0])\n",
    "print('Total unique products : ',e_data['productId'].unique().shape[0])"
   ]
  },
  {
   "cell_type": "code",
   "execution_count": 24,
   "id": "3082eccb-f203-4850-9b1d-6b61808ec001",
   "metadata": {},
   "outputs": [
    {
     "data": {
      "text/plain": [
       "userId\n",
       "A3OXHLG6DIBRW8    103\n",
       "ADLVFFE4VBT8       99\n",
       "A5JLAU2ARJ0BO      94\n",
       "A6FIAB28IS79       77\n",
       "A36K2N527TXXJN     77\n",
       "Name: rating, dtype: int64"
      ]
     },
     "execution_count": 24,
     "metadata": {},
     "output_type": "execute_result"
    }
   ],
   "source": [
    "no_of_rated_products_per_user = e_data.groupby(by='userId')['rating'].count().sort_values(ascending=False)\n",
    "no_of_rated_products_per_user.head()"
   ]
  },
  {
   "cell_type": "code",
   "execution_count": 25,
   "id": "12f5c743-9ebf-4a99-8075-a90e70862305",
   "metadata": {},
   "outputs": [
    {
     "name": "stdout",
     "output_type": "stream",
     "text": [
      "No of rated product more than 50 per user : 21 \n"
     ]
    }
   ],
   "source": [
    "print('No of rated product more than 50 per user : {} '.format(sum(no_of_rated_products_per_user >= 50)))"
   ]
  },
  {
   "cell_type": "code",
   "execution_count": 26,
   "id": "e23082fd-9e9b-430c-8706-f4638bbe90cc",
   "metadata": {},
   "outputs": [],
   "source": [
    "data=e_data.groupby('productId').filter(lambda x:x['rating'].count()>=50)"
   ]
  },
  {
   "cell_type": "code",
   "execution_count": 27,
   "id": "96c2f6b6-5159-47d1-a272-d932650de32b",
   "metadata": {},
   "outputs": [
    {
     "data": {
      "text/html": [
       "<div>\n",
       "<style scoped>\n",
       "    .dataframe tbody tr th:only-of-type {\n",
       "        vertical-align: middle;\n",
       "    }\n",
       "\n",
       "    .dataframe tbody tr th {\n",
       "        vertical-align: top;\n",
       "    }\n",
       "\n",
       "    .dataframe thead th {\n",
       "        text-align: right;\n",
       "    }\n",
       "</style>\n",
       "<table border=\"1\" class=\"dataframe\">\n",
       "  <thead>\n",
       "    <tr style=\"text-align: right;\">\n",
       "      <th></th>\n",
       "      <th>userId</th>\n",
       "      <th>productId</th>\n",
       "      <th>rating</th>\n",
       "    </tr>\n",
       "  </thead>\n",
       "  <tbody>\n",
       "    <tr>\n",
       "      <th>0</th>\n",
       "      <td>AOBJ1Q85HLI1O</td>\n",
       "      <td>B00119T6NQ</td>\n",
       "      <td>5.0</td>\n",
       "    </tr>\n",
       "    <tr>\n",
       "      <th>2</th>\n",
       "      <td>A21I9UFX9P4MTV</td>\n",
       "      <td>B003DZ1684</td>\n",
       "      <td>5.0</td>\n",
       "    </tr>\n",
       "    <tr>\n",
       "      <th>4</th>\n",
       "      <td>A2379DJ7GYLP8T</td>\n",
       "      <td>B002Y27P6O</td>\n",
       "      <td>1.0</td>\n",
       "    </tr>\n",
       "    <tr>\n",
       "      <th>5</th>\n",
       "      <td>ALB2FGIX7SYMY</td>\n",
       "      <td>B004Z4FBE2</td>\n",
       "      <td>5.0</td>\n",
       "    </tr>\n",
       "    <tr>\n",
       "      <th>10</th>\n",
       "      <td>A3866HDI6HMH53</td>\n",
       "      <td>B003EWNXFU</td>\n",
       "      <td>5.0</td>\n",
       "    </tr>\n",
       "  </tbody>\n",
       "</table>\n",
       "</div>"
      ],
      "text/plain": [
       "            userId   productId  rating\n",
       "0    AOBJ1Q85HLI1O  B00119T6NQ     5.0\n",
       "2   A21I9UFX9P4MTV  B003DZ1684     5.0\n",
       "4   A2379DJ7GYLP8T  B002Y27P6O     1.0\n",
       "5    ALB2FGIX7SYMY  B004Z4FBE2     5.0\n",
       "10  A3866HDI6HMH53  B003EWNXFU     5.0"
      ]
     },
     "execution_count": 27,
     "metadata": {},
     "output_type": "execute_result"
    }
   ],
   "source": [
    "data.head()"
   ]
  },
  {
   "cell_type": "code",
   "execution_count": 28,
   "id": "b9e13e8d-ead0-40f1-9623-b92c6b41cb88",
   "metadata": {},
   "outputs": [],
   "source": [
    "no_of_rating_per_product=data.groupby('productId')['rating'].count().sort_values(ascending=False)"
   ]
  },
  {
   "cell_type": "code",
   "execution_count": 29,
   "id": "6c6cc4b6-42b9-46b1-9230-49bea4898980",
   "metadata": {},
   "outputs": [
    {
     "data": {
      "text/plain": [
       "productId\n",
       "B0074BW614    3661\n",
       "B00DR0PDNE    3244\n",
       "B007WTAJTO    2816\n",
       "B006GWO5WK    2458\n",
       "B0019EHU8G    2451\n",
       "Name: rating, dtype: int64"
      ]
     },
     "execution_count": 29,
     "metadata": {},
     "output_type": "execute_result"
    }
   ],
   "source": [
    "no_of_rating_per_product.head()"
   ]
  },
  {
   "cell_type": "code",
   "execution_count": 30,
   "id": "8baafc44-6a6e-49dc-8de0-371b9d606449",
   "metadata": {},
   "outputs": [
    {
     "data": {
      "image/png": "[encoded data removed]",
      "text/plain": [
       "<Figure size 640x480 with 1 Axes>"
      ]
     },
     "metadata": {},
     "output_type": "display_data"
    }
   ],
   "source": [
    "#top 20 product\n",
    "no_of_rating_per_product.head(20).plot(kind='bar')\n",
    "plt.xlabel('Product ID')\n",
    "plt.ylabel('num of rating')\n",
    "plt.title('top 20 procduct')\n",
    "plt.show()"
   ]
  },
  {
   "cell_type": "code",
   "execution_count": 31,
   "id": "3b4b5fad-900a-4cc4-a962-e4902f40a8b4",
   "metadata": {},
   "outputs": [],
   "source": [
    "#average rating product\n",
    "mean_rating_product_count=pd.DataFrame(data.groupby('productId')['rating'].mean())"
   ]
  },
  {
   "cell_type": "code",
   "execution_count": 32,
   "id": "80c55d90-277b-4384-a209-cbb4c0ef8600",
   "metadata": {},
   "outputs": [
    {
     "data": {
      "text/html": [
       "<div>\n",
       "<style scoped>\n",
       "    .dataframe tbody tr th:only-of-type {\n",
       "        vertical-align: middle;\n",
       "    }\n",
       "\n",
       "    .dataframe tbody tr th {\n",
       "        vertical-align: top;\n",
       "    }\n",
       "\n",
       "    .dataframe thead th {\n",
       "        text-align: right;\n",
       "    }\n",
       "</style>\n",
       "<table border=\"1\" class=\"dataframe\">\n",
       "  <thead>\n",
       "    <tr style=\"text-align: right;\">\n",
       "      <th></th>\n",
       "      <th>rating</th>\n",
       "    </tr>\n",
       "    <tr>\n",
       "      <th>productId</th>\n",
       "      <th></th>\n",
       "    </tr>\n",
       "  </thead>\n",
       "  <tbody>\n",
       "    <tr>\n",
       "      <th>0972683275</th>\n",
       "      <td>4.621495</td>\n",
       "    </tr>\n",
       "    <tr>\n",
       "      <th>1400532655</th>\n",
       "      <td>3.757576</td>\n",
       "    </tr>\n",
       "    <tr>\n",
       "      <th>140053271X</th>\n",
       "      <td>3.947368</td>\n",
       "    </tr>\n",
       "    <tr>\n",
       "      <th>B00000DM9W</th>\n",
       "      <td>4.662162</td>\n",
       "    </tr>\n",
       "    <tr>\n",
       "      <th>B00000J061</th>\n",
       "      <td>4.100000</td>\n",
       "    </tr>\n",
       "  </tbody>\n",
       "</table>\n",
       "</div>"
      ],
      "text/plain": [
       "              rating\n",
       "productId           \n",
       "0972683275  4.621495\n",
       "1400532655  3.757576\n",
       "140053271X  3.947368\n",
       "B00000DM9W  4.662162\n",
       "B00000J061  4.100000"
      ]
     },
     "execution_count": 32,
     "metadata": {},
     "output_type": "execute_result"
    }
   ],
   "source": [
    "mean_rating_product_count.head()"
   ]
  },
  {
   "cell_type": "code",
   "execution_count": 33,
   "id": "005b2ff1-ec85-4484-8912-b02b26d6fbb7",
   "metadata": {},
   "outputs": [
    {
     "data": {
      "image/png": "[encoded data removed]",
      "text/plain": [
       "<Figure size 640x480 with 1 Axes>"
      ]
     },
     "metadata": {},
     "output_type": "display_data"
    }
   ],
   "source": [
    "#plot the rating distribution of average rating product\n",
    "plt.hist(mean_rating_product_count['rating'],bins=100)\n",
    "plt.title('Mean Rating distribution')\n",
    "plt.show()"
   ]
  },
  {
   "cell_type": "code",
   "execution_count": 34,
   "id": "dde58912-2c96-4389-995f-f4749402ed98",
   "metadata": {},
   "outputs": [
    {
     "data": {
      "text/plain": [
       "-0.9285745430334152"
      ]
     },
     "execution_count": 34,
     "metadata": {},
     "output_type": "execute_result"
    }
   ],
   "source": [
    "#check the skewness of the mean rating data\n",
    "mean_rating_product_count['rating'].skew()"
   ]
  },
  {
   "cell_type": "code",
   "execution_count": 35,
   "id": "0e0f0847-bd66-4b55-aa10-a02673d0a17f",
   "metadata": {},
   "outputs": [],
   "source": [
    "mean_rating_product_count['rating_counts'] = pd.DataFrame(data.groupby('productId')['rating'].count())"
   ]
  },
  {
   "cell_type": "code",
   "execution_count": 36,
   "id": "4e79fd0e-de84-40e2-bdb9-b0ccb20d6e62",
   "metadata": {},
   "outputs": [
    {
     "data": {
      "text/html": [
       "<div>\n",
       "<style scoped>\n",
       "    .dataframe tbody tr th:only-of-type {\n",
       "        vertical-align: middle;\n",
       "    }\n",
       "\n",
       "    .dataframe tbody tr th {\n",
       "        vertical-align: top;\n",
       "    }\n",
       "\n",
       "    .dataframe thead th {\n",
       "        text-align: right;\n",
       "    }\n",
       "</style>\n",
       "<table border=\"1\" class=\"dataframe\">\n",
       "  <thead>\n",
       "    <tr style=\"text-align: right;\">\n",
       "      <th></th>\n",
       "      <th>rating</th>\n",
       "      <th>rating_counts</th>\n",
       "    </tr>\n",
       "    <tr>\n",
       "      <th>productId</th>\n",
       "      <th></th>\n",
       "      <th></th>\n",
       "    </tr>\n",
       "  </thead>\n",
       "  <tbody>\n",
       "    <tr>\n",
       "      <th>0972683275</th>\n",
       "      <td>4.621495</td>\n",
       "      <td>214</td>\n",
       "    </tr>\n",
       "    <tr>\n",
       "      <th>1400532655</th>\n",
       "      <td>3.757576</td>\n",
       "      <td>99</td>\n",
       "    </tr>\n",
       "    <tr>\n",
       "      <th>140053271X</th>\n",
       "      <td>3.947368</td>\n",
       "      <td>76</td>\n",
       "    </tr>\n",
       "    <tr>\n",
       "      <th>B00000DM9W</th>\n",
       "      <td>4.662162</td>\n",
       "      <td>74</td>\n",
       "    </tr>\n",
       "    <tr>\n",
       "      <th>B00000J061</th>\n",
       "      <td>4.100000</td>\n",
       "      <td>60</td>\n",
       "    </tr>\n",
       "  </tbody>\n",
       "</table>\n",
       "</div>"
      ],
      "text/plain": [
       "              rating  rating_counts\n",
       "productId                          \n",
       "0972683275  4.621495            214\n",
       "1400532655  3.757576             99\n",
       "140053271X  3.947368             76\n",
       "B00000DM9W  4.662162             74\n",
       "B00000J061  4.100000             60"
      ]
     },
     "execution_count": 36,
     "metadata": {},
     "output_type": "execute_result"
    }
   ],
   "source": [
    "mean_rating_product_count.head()"
   ]
  },
  {
   "cell_type": "code",
   "execution_count": 37,
   "id": "d9797bf4-3722-4263-a5c1-bd3d45faa160",
   "metadata": {},
   "outputs": [
    {
     "data": {
      "text/html": [
       "<div>\n",
       "<style scoped>\n",
       "    .dataframe tbody tr th:only-of-type {\n",
       "        vertical-align: middle;\n",
       "    }\n",
       "\n",
       "    .dataframe tbody tr th {\n",
       "        vertical-align: top;\n",
       "    }\n",
       "\n",
       "    .dataframe thead th {\n",
       "        text-align: right;\n",
       "    }\n",
       "</style>\n",
       "<table border=\"1\" class=\"dataframe\">\n",
       "  <thead>\n",
       "    <tr style=\"text-align: right;\">\n",
       "      <th></th>\n",
       "      <th>rating</th>\n",
       "      <th>rating_counts</th>\n",
       "    </tr>\n",
       "    <tr>\n",
       "      <th>productId</th>\n",
       "      <th></th>\n",
       "      <th></th>\n",
       "    </tr>\n",
       "  </thead>\n",
       "  <tbody>\n",
       "    <tr>\n",
       "      <th>B0074BW614</th>\n",
       "      <td>4.509151</td>\n",
       "      <td>3661</td>\n",
       "    </tr>\n",
       "  </tbody>\n",
       "</table>\n",
       "</div>"
      ],
      "text/plain": [
       "              rating  rating_counts\n",
       "productId                          \n",
       "B0074BW614  4.509151           3661"
      ]
     },
     "execution_count": 37,
     "metadata": {},
     "output_type": "execute_result"
    }
   ],
   "source": [
    "#highest mean rating product\n",
    "mean_rating_product_count[mean_rating_product_count['rating_counts']==mean_rating_product_count['rating_counts'].max()]"
   ]
  },
  {
   "cell_type": "code",
   "execution_count": 38,
   "id": "34f21128-5bd3-45b5-aa78-aa3bcd381802",
   "metadata": {},
   "outputs": [
    {
     "name": "stdout",
     "output_type": "stream",
     "text": [
      "min average rating product :  50\n",
      "total min average rating products :  112\n"
     ]
    }
   ],
   "source": [
    "#min mean rating product\n",
    "print('min average rating product : ',mean_rating_product_count['rating_counts'].min())\n",
    "print('total min average rating products : ',mean_rating_product_count[mean_rating_product_count['rating_counts']==mean_rating_product_count['rating_counts'].min()].shape[0])"
   ]
  },
  {
   "cell_type": "code",
   "execution_count": 39,
   "id": "e2770552-b52a-499c-9959-957c92947a75",
   "metadata": {},
   "outputs": [
    {
     "data": {
      "image/png": "[encoded data removed]",
      "text/plain": [
       "<Figure size 640x480 with 1 Axes>"
      ]
     },
     "metadata": {},
     "output_type": "display_data"
    }
   ],
   "source": [
    "#plot the rating count of mean_rating_product_count\n",
    "plt.hist(mean_rating_product_count['rating_counts'],bins=100)\n",
    "plt.title('rating count distribution')\n",
    "plt.show()"
   ]
  },
  {
   "cell_type": "code",
   "execution_count": 40,
   "id": "42e3e28b-6261-425f-b22b-ac0b84f6427c",
   "metadata": {},
   "outputs": [
    {
     "data": {
      "image/png": "[encoded data removed]",
      "text/plain": [
       "<Figure size 600x600 with 3 Axes>"
      ]
     },
     "metadata": {},
     "output_type": "display_data"
    }
   ],
   "source": [
    "#joint plot of rating and rating counts\n",
    "sns.jointplot(x='rating',y='rating_counts',data=mean_rating_product_count)\n",
    "plt.title('Joint Plot of rating and rating counts')\n",
    "plt.tight_layout()\n",
    "plt.show()"
   ]
  },
  {
   "cell_type": "code",
   "execution_count": 41,
   "id": "028b62dc-9476-4531-9fb0-cc701a73757c",
   "metadata": {},
   "outputs": [
    {
     "data": {
      "image/png": "[encoded data removed]",
      "text/plain": [
       "<Figure size 640x480 with 1 Axes>"
      ]
     },
     "metadata": {},
     "output_type": "display_data"
    }
   ],
   "source": [
    "plt.scatter(x=mean_rating_product_count['rating'],y=mean_rating_product_count['rating_counts'])\n",
    "plt.show()"
   ]
  },
  {
   "cell_type": "code",
   "execution_count": 42,
   "id": "ac2dae8f-324e-4f0d-9ada-1ff9049b8a5a",
   "metadata": {},
   "outputs": [
    {
     "name": "stdout",
     "output_type": "stream",
     "text": [
      "Correlation between Rating and Rating Counts is : 0.1140167351796743 \n"
     ]
    }
   ],
   "source": [
    "print('Correlation between Rating and Rating Counts is : {} '.format(mean_rating_product_count['rating'].corr(mean_rating_product_count['rating_counts'])))"
   ]
  },
  {
   "cell_type": "code",
   "execution_count": 43,
   "id": "0a7d9f27-2cc5-4e5a-8cd2-61aa88a41027",
   "metadata": {},
   "outputs": [
    {
     "name": "stdout",
     "output_type": "stream",
     "text": [
      "surprise is already installed.\n"
     ]
    }
   ],
   "source": [
    "#import surprise library for collebrative filtering\n",
    "check_and_install_library('surprise')\n",
    "from surprise import KNNWithMeans\n",
    "from surprise import Dataset\n",
    "from surprise import accuracy\n",
    "from surprise import Reader\n",
    "from surprise.model_selection import train_test_split"
   ]
  },
  {
   "cell_type": "code",
   "execution_count": 44,
   "id": "62866b21-d23a-4279-a4c5-5478e4bce99a",
   "metadata": {},
   "outputs": [],
   "source": [
    "#Reading the dataset\n",
    "reader = Reader(rating_scale=(1, 5))\n",
    "surprise_data = Dataset.load_from_df(data,reader)"
   ]
  },
  {
   "cell_type": "code",
   "execution_count": 45,
   "id": "1979feee-5b8b-4bfb-a3cf-98e6a7ac569c",
   "metadata": {},
   "outputs": [],
   "source": [
    "#Splitting surprise the dataset into 80,20 ratio using train_test_split\n",
    "trainset, testset = train_test_split(surprise_data, test_size=0.3,random_state=42)"
   ]
  },
  {
   "cell_type": "code",
   "execution_count": 46,
   "id": "9379ddc8-058d-413b-aafb-4b3bacc35ebd",
   "metadata": {},
   "outputs": [
    {
     "name": "stdout",
     "output_type": "stream",
     "text": [
      "Estimating biases using als...\n",
      "Computing the pearson_baseline similarity matrix...\n",
      "Done computing similarity matrix.\n"
     ]
    },
    {
     "data": {
      "text/plain": [
       "<surprise.prediction_algorithms.knns.KNNWithMeans at 0x22f1b330050>"
      ]
     },
     "execution_count": 46,
     "metadata": {},
     "output_type": "execute_result"
    }
   ],
   "source": [
    "# Use user_based true/false to switch between user-based or item-based collaborative filtering\n",
    "algo = KNNWithMeans(k=5, sim_options={'name': 'pearson_baseline', 'user_based': False})\n",
    "algo.fit(trainset)"
   ]
  },
  {
   "cell_type": "code",
   "execution_count": 47,
   "id": "1342dadc-0147-43a8-8186-4052c5926ef7",
   "metadata": {},
   "outputs": [],
   "source": [
    "#make prediction using testset\n",
    "test_pred=algo.test(testset)"
   ]
  },
  {
   "cell_type": "code",
   "execution_count": 48,
   "id": "5ae3c232-0272-4fa6-aea3-ca6ea65ce87e",
   "metadata": {},
   "outputs": [
    {
     "name": "stdout",
     "output_type": "stream",
     "text": [
      "Item-based Model : Test Set\n",
      "RMSE: 1.3118\n"
     ]
    },
    {
     "data": {
      "text/plain": [
       "1.3117974156248555"
      ]
     },
     "execution_count": 48,
     "metadata": {},
     "output_type": "execute_result"
    }
   ],
   "source": [
    "#print RMSE\n",
    "print(\"Item-based Model : Test Set\")\n",
    "accuracy.rmse(test_pred ,verbose=True)"
   ]
  },
  {
   "cell_type": "code",
   "execution_count": 49,
   "id": "7d689407-086d-4d82-a56f-9bf8cf148ae6",
   "metadata": {},
   "outputs": [
    {
     "data": {
      "text/html": [
       "<div>\n",
       "<style scoped>\n",
       "    .dataframe tbody tr th:only-of-type {\n",
       "        vertical-align: middle;\n",
       "    }\n",
       "\n",
       "    .dataframe tbody tr th {\n",
       "        vertical-align: top;\n",
       "    }\n",
       "\n",
       "    .dataframe thead th {\n",
       "        text-align: right;\n",
       "    }\n",
       "</style>\n",
       "<table border=\"1\" class=\"dataframe\">\n",
       "  <thead>\n",
       "    <tr style=\"text-align: right;\">\n",
       "      <th>productId</th>\n",
       "      <th>0972683275</th>\n",
       "      <th>1400532655</th>\n",
       "      <th>140053271X</th>\n",
       "      <th>B00000DM9W</th>\n",
       "      <th>B00000J061</th>\n",
       "      <th>B00000J1V5</th>\n",
       "      <th>B00000JDF5</th>\n",
       "      <th>B00000K2YR</th>\n",
       "      <th>B00000K4KH</th>\n",
       "      <th>B00001OWYM</th>\n",
       "      <th>...</th>\n",
       "      <th>B00I2ZBD1U</th>\n",
       "      <th>B00I94IPTW</th>\n",
       "      <th>B00I9K3ZQ4</th>\n",
       "      <th>B00IDG3IDO</th>\n",
       "      <th>B00IF70QCW</th>\n",
       "      <th>B00INNP5VU</th>\n",
       "      <th>B00ISGCAJM</th>\n",
       "      <th>B00IT1WJZQ</th>\n",
       "      <th>B00IVPU786</th>\n",
       "      <th>B00IZBNQO8</th>\n",
       "    </tr>\n",
       "    <tr>\n",
       "      <th>userId</th>\n",
       "      <th></th>\n",
       "      <th></th>\n",
       "      <th></th>\n",
       "      <th></th>\n",
       "      <th></th>\n",
       "      <th></th>\n",
       "      <th></th>\n",
       "      <th></th>\n",
       "      <th></th>\n",
       "      <th></th>\n",
       "      <th></th>\n",
       "      <th></th>\n",
       "      <th></th>\n",
       "      <th></th>\n",
       "      <th></th>\n",
       "      <th></th>\n",
       "      <th></th>\n",
       "      <th></th>\n",
       "      <th></th>\n",
       "      <th></th>\n",
       "      <th></th>\n",
       "    </tr>\n",
       "  </thead>\n",
       "  <tbody>\n",
       "    <tr>\n",
       "      <th>A0125769YAYJYA1B5Y9B</th>\n",
       "      <td>0</td>\n",
       "      <td>0</td>\n",
       "      <td>0</td>\n",
       "      <td>0</td>\n",
       "      <td>0</td>\n",
       "      <td>0</td>\n",
       "      <td>0</td>\n",
       "      <td>0</td>\n",
       "      <td>0</td>\n",
       "      <td>0</td>\n",
       "      <td>...</td>\n",
       "      <td>0</td>\n",
       "      <td>0</td>\n",
       "      <td>0</td>\n",
       "      <td>0</td>\n",
       "      <td>0</td>\n",
       "      <td>0</td>\n",
       "      <td>0</td>\n",
       "      <td>0</td>\n",
       "      <td>0</td>\n",
       "      <td>0</td>\n",
       "    </tr>\n",
       "    <tr>\n",
       "      <th>A01398202XBN23LWYQHT5</th>\n",
       "      <td>0</td>\n",
       "      <td>0</td>\n",
       "      <td>0</td>\n",
       "      <td>0</td>\n",
       "      <td>0</td>\n",
       "      <td>0</td>\n",
       "      <td>0</td>\n",
       "      <td>0</td>\n",
       "      <td>0</td>\n",
       "      <td>0</td>\n",
       "      <td>...</td>\n",
       "      <td>0</td>\n",
       "      <td>0</td>\n",
       "      <td>0</td>\n",
       "      <td>0</td>\n",
       "      <td>0</td>\n",
       "      <td>0</td>\n",
       "      <td>0</td>\n",
       "      <td>0</td>\n",
       "      <td>0</td>\n",
       "      <td>0</td>\n",
       "    </tr>\n",
       "    <tr>\n",
       "      <th>A01408681ZFC50SWTCBVL</th>\n",
       "      <td>0</td>\n",
       "      <td>0</td>\n",
       "      <td>0</td>\n",
       "      <td>0</td>\n",
       "      <td>0</td>\n",
       "      <td>0</td>\n",
       "      <td>0</td>\n",
       "      <td>0</td>\n",
       "      <td>0</td>\n",
       "      <td>0</td>\n",
       "      <td>...</td>\n",
       "      <td>0</td>\n",
       "      <td>0</td>\n",
       "      <td>0</td>\n",
       "      <td>0</td>\n",
       "      <td>0</td>\n",
       "      <td>0</td>\n",
       "      <td>0</td>\n",
       "      <td>0</td>\n",
       "      <td>0</td>\n",
       "      <td>0</td>\n",
       "    </tr>\n",
       "    <tr>\n",
       "      <th>A01596081YRGM6UKNW0Z8</th>\n",
       "      <td>0</td>\n",
       "      <td>0</td>\n",
       "      <td>0</td>\n",
       "      <td>0</td>\n",
       "      <td>0</td>\n",
       "      <td>0</td>\n",
       "      <td>0</td>\n",
       "      <td>0</td>\n",
       "      <td>0</td>\n",
       "      <td>0</td>\n",
       "      <td>...</td>\n",
       "      <td>0</td>\n",
       "      <td>0</td>\n",
       "      <td>0</td>\n",
       "      <td>0</td>\n",
       "      <td>0</td>\n",
       "      <td>0</td>\n",
       "      <td>0</td>\n",
       "      <td>0</td>\n",
       "      <td>0</td>\n",
       "      <td>0</td>\n",
       "    </tr>\n",
       "    <tr>\n",
       "      <th>A01663101S4TUSD81AHV8</th>\n",
       "      <td>0</td>\n",
       "      <td>0</td>\n",
       "      <td>0</td>\n",
       "      <td>0</td>\n",
       "      <td>0</td>\n",
       "      <td>0</td>\n",
       "      <td>0</td>\n",
       "      <td>0</td>\n",
       "      <td>0</td>\n",
       "      <td>0</td>\n",
       "      <td>...</td>\n",
       "      <td>0</td>\n",
       "      <td>0</td>\n",
       "      <td>0</td>\n",
       "      <td>0</td>\n",
       "      <td>0</td>\n",
       "      <td>0</td>\n",
       "      <td>0</td>\n",
       "      <td>0</td>\n",
       "      <td>0</td>\n",
       "      <td>0</td>\n",
       "    </tr>\n",
       "  </tbody>\n",
       "</table>\n",
       "<p>5 rows × 4372 columns</p>\n",
       "</div>"
      ],
      "text/plain": [
       "productId              0972683275  1400532655  140053271X  B00000DM9W  \\\n",
       "userId                                                                  \n",
       "A0125769YAYJYA1B5Y9B            0           0           0           0   \n",
       "A01398202XBN23LWYQHT5           0           0           0           0   \n",
       "A01408681ZFC50SWTCBVL           0           0           0           0   \n",
       "A01596081YRGM6UKNW0Z8           0           0           0           0   \n",
       "A01663101S4TUSD81AHV8           0           0           0           0   \n",
       "\n",
       "productId              B00000J061  B00000J1V5  B00000JDF5  B00000K2YR  \\\n",
       "userId                                                                  \n",
       "A0125769YAYJYA1B5Y9B            0           0           0           0   \n",
       "A01398202XBN23LWYQHT5           0           0           0           0   \n",
       "A01408681ZFC50SWTCBVL           0           0           0           0   \n",
       "A01596081YRGM6UKNW0Z8           0           0           0           0   \n",
       "A01663101S4TUSD81AHV8           0           0           0           0   \n",
       "\n",
       "productId              B00000K4KH  B00001OWYM  ...  B00I2ZBD1U  B00I94IPTW  \\\n",
       "userId                                         ...                           \n",
       "A0125769YAYJYA1B5Y9B            0           0  ...           0           0   \n",
       "A01398202XBN23LWYQHT5           0           0  ...           0           0   \n",
       "A01408681ZFC50SWTCBVL           0           0  ...           0           0   \n",
       "A01596081YRGM6UKNW0Z8           0           0  ...           0           0   \n",
       "A01663101S4TUSD81AHV8           0           0  ...           0           0   \n",
       "\n",
       "productId              B00I9K3ZQ4  B00IDG3IDO  B00IF70QCW  B00INNP5VU  \\\n",
       "userId                                                                  \n",
       "A0125769YAYJYA1B5Y9B            0           0           0           0   \n",
       "A01398202XBN23LWYQHT5           0           0           0           0   \n",
       "A01408681ZFC50SWTCBVL           0           0           0           0   \n",
       "A01596081YRGM6UKNW0Z8           0           0           0           0   \n",
       "A01663101S4TUSD81AHV8           0           0           0           0   \n",
       "\n",
       "productId              B00ISGCAJM  B00IT1WJZQ  B00IVPU786  B00IZBNQO8  \n",
       "userId                                                                 \n",
       "A0125769YAYJYA1B5Y9B            0           0           0           0  \n",
       "A01398202XBN23LWYQHT5           0           0           0           0  \n",
       "A01408681ZFC50SWTCBVL           0           0           0           0  \n",
       "A01596081YRGM6UKNW0Z8           0           0           0           0  \n",
       "A01663101S4TUSD81AHV8           0           0           0           0  \n",
       "\n",
       "[5 rows x 4372 columns]"
      ]
     },
     "execution_count": 49,
     "metadata": {},
     "output_type": "execute_result"
    }
   ],
   "source": [
    "data2=data.sample(20000)\n",
    "ratings_matrix = data2.pivot_table(values='rating', index='userId', columns='productId', fill_value=0)\n",
    "ratings_matrix.head()"
   ]
  },
  {
   "cell_type": "code",
   "execution_count": 50,
   "id": "62527cd4-27f5-4dbb-a501-0ec8c9f78154",
   "metadata": {},
   "outputs": [
    {
     "data": {
      "text/plain": [
       "(19905, 4372)"
      ]
     },
     "execution_count": 50,
     "metadata": {},
     "output_type": "execute_result"
    }
   ],
   "source": [
    "#check the shape of the rating_matrix\n",
    "ratings_matrix.shape"
   ]
  },
  {
   "cell_type": "code",
   "execution_count": 51,
   "id": "9b500b5f-35b0-40e9-9af0-f6bfeabb89e8",
   "metadata": {},
   "outputs": [
    {
     "data": {
      "text/html": [
       "<div>\n",
       "<style scoped>\n",
       "    .dataframe tbody tr th:only-of-type {\n",
       "        vertical-align: middle;\n",
       "    }\n",
       "\n",
       "    .dataframe tbody tr th {\n",
       "        vertical-align: top;\n",
       "    }\n",
       "\n",
       "    .dataframe thead th {\n",
       "        text-align: right;\n",
       "    }\n",
       "</style>\n",
       "<table border=\"1\" class=\"dataframe\">\n",
       "  <thead>\n",
       "    <tr style=\"text-align: right;\">\n",
       "      <th>userId</th>\n",
       "      <th>A0125769YAYJYA1B5Y9B</th>\n",
       "      <th>A01398202XBN23LWYQHT5</th>\n",
       "      <th>A01408681ZFC50SWTCBVL</th>\n",
       "      <th>A01596081YRGM6UKNW0Z8</th>\n",
       "      <th>A01663101S4TUSD81AHV8</th>\n",
       "      <th>A02042832HVNS1BRBGFFT</th>\n",
       "      <th>A03541451A87X5FNV5K4H</th>\n",
       "      <th>A03621251INKKK9X82UZ8</th>\n",
       "      <th>A036229337Q1OHU0BSCIU</th>\n",
       "      <th>A0372063OSKBH23A8ABN</th>\n",
       "      <th>...</th>\n",
       "      <th>AZX1JTWFRK1NT</th>\n",
       "      <th>AZX7GJRLMWN92</th>\n",
       "      <th>AZXWC30AT28Y8</th>\n",
       "      <th>AZXX7L6ABGC06</th>\n",
       "      <th>AZXYT7ZNTL8P9</th>\n",
       "      <th>AZY1ORGM0S2CD</th>\n",
       "      <th>AZZJZQGBP0GNE</th>\n",
       "      <th>AZZLZUR5X9GYE</th>\n",
       "      <th>AZZS13C32YSPH</th>\n",
       "      <th>AZZWPNME0GQZ2</th>\n",
       "    </tr>\n",
       "    <tr>\n",
       "      <th>productId</th>\n",
       "      <th></th>\n",
       "      <th></th>\n",
       "      <th></th>\n",
       "      <th></th>\n",
       "      <th></th>\n",
       "      <th></th>\n",
       "      <th></th>\n",
       "      <th></th>\n",
       "      <th></th>\n",
       "      <th></th>\n",
       "      <th></th>\n",
       "      <th></th>\n",
       "      <th></th>\n",
       "      <th></th>\n",
       "      <th></th>\n",
       "      <th></th>\n",
       "      <th></th>\n",
       "      <th></th>\n",
       "      <th></th>\n",
       "      <th></th>\n",
       "      <th></th>\n",
       "    </tr>\n",
       "  </thead>\n",
       "  <tbody>\n",
       "    <tr>\n",
       "      <th>0972683275</th>\n",
       "      <td>0</td>\n",
       "      <td>0</td>\n",
       "      <td>0</td>\n",
       "      <td>0</td>\n",
       "      <td>0</td>\n",
       "      <td>0</td>\n",
       "      <td>0</td>\n",
       "      <td>0</td>\n",
       "      <td>0</td>\n",
       "      <td>0</td>\n",
       "      <td>...</td>\n",
       "      <td>0</td>\n",
       "      <td>0</td>\n",
       "      <td>0</td>\n",
       "      <td>0</td>\n",
       "      <td>0</td>\n",
       "      <td>0</td>\n",
       "      <td>0</td>\n",
       "      <td>0</td>\n",
       "      <td>0</td>\n",
       "      <td>0</td>\n",
       "    </tr>\n",
       "    <tr>\n",
       "      <th>1400532655</th>\n",
       "      <td>0</td>\n",
       "      <td>0</td>\n",
       "      <td>0</td>\n",
       "      <td>0</td>\n",
       "      <td>0</td>\n",
       "      <td>0</td>\n",
       "      <td>0</td>\n",
       "      <td>0</td>\n",
       "      <td>0</td>\n",
       "      <td>0</td>\n",
       "      <td>...</td>\n",
       "      <td>0</td>\n",
       "      <td>0</td>\n",
       "      <td>0</td>\n",
       "      <td>0</td>\n",
       "      <td>0</td>\n",
       "      <td>0</td>\n",
       "      <td>0</td>\n",
       "      <td>0</td>\n",
       "      <td>0</td>\n",
       "      <td>0</td>\n",
       "    </tr>\n",
       "    <tr>\n",
       "      <th>140053271X</th>\n",
       "      <td>0</td>\n",
       "      <td>0</td>\n",
       "      <td>0</td>\n",
       "      <td>0</td>\n",
       "      <td>0</td>\n",
       "      <td>0</td>\n",
       "      <td>0</td>\n",
       "      <td>0</td>\n",
       "      <td>0</td>\n",
       "      <td>0</td>\n",
       "      <td>...</td>\n",
       "      <td>0</td>\n",
       "      <td>0</td>\n",
       "      <td>0</td>\n",
       "      <td>0</td>\n",
       "      <td>0</td>\n",
       "      <td>0</td>\n",
       "      <td>0</td>\n",
       "      <td>0</td>\n",
       "      <td>0</td>\n",
       "      <td>0</td>\n",
       "    </tr>\n",
       "    <tr>\n",
       "      <th>B00000DM9W</th>\n",
       "      <td>0</td>\n",
       "      <td>0</td>\n",
       "      <td>0</td>\n",
       "      <td>0</td>\n",
       "      <td>0</td>\n",
       "      <td>0</td>\n",
       "      <td>0</td>\n",
       "      <td>0</td>\n",
       "      <td>0</td>\n",
       "      <td>0</td>\n",
       "      <td>...</td>\n",
       "      <td>0</td>\n",
       "      <td>0</td>\n",
       "      <td>0</td>\n",
       "      <td>0</td>\n",
       "      <td>0</td>\n",
       "      <td>0</td>\n",
       "      <td>0</td>\n",
       "      <td>0</td>\n",
       "      <td>0</td>\n",
       "      <td>0</td>\n",
       "    </tr>\n",
       "    <tr>\n",
       "      <th>B00000J061</th>\n",
       "      <td>0</td>\n",
       "      <td>0</td>\n",
       "      <td>0</td>\n",
       "      <td>0</td>\n",
       "      <td>0</td>\n",
       "      <td>0</td>\n",
       "      <td>0</td>\n",
       "      <td>0</td>\n",
       "      <td>0</td>\n",
       "      <td>0</td>\n",
       "      <td>...</td>\n",
       "      <td>0</td>\n",
       "      <td>0</td>\n",
       "      <td>0</td>\n",
       "      <td>0</td>\n",
       "      <td>0</td>\n",
       "      <td>0</td>\n",
       "      <td>0</td>\n",
       "      <td>0</td>\n",
       "      <td>0</td>\n",
       "      <td>0</td>\n",
       "    </tr>\n",
       "  </tbody>\n",
       "</table>\n",
       "<p>5 rows × 19905 columns</p>\n",
       "</div>"
      ],
      "text/plain": [
       "userId      A0125769YAYJYA1B5Y9B  A01398202XBN23LWYQHT5  \\\n",
       "productId                                                 \n",
       "0972683275                     0                      0   \n",
       "1400532655                     0                      0   \n",
       "140053271X                     0                      0   \n",
       "B00000DM9W                     0                      0   \n",
       "B00000J061                     0                      0   \n",
       "\n",
       "userId      A01408681ZFC50SWTCBVL  A01596081YRGM6UKNW0Z8  \\\n",
       "productId                                                  \n",
       "0972683275                      0                      0   \n",
       "1400532655                      0                      0   \n",
       "140053271X                      0                      0   \n",
       "B00000DM9W                      0                      0   \n",
       "B00000J061                      0                      0   \n",
       "\n",
       "userId      A01663101S4TUSD81AHV8  A02042832HVNS1BRBGFFT  \\\n",
       "productId                                                  \n",
       "0972683275                      0                      0   \n",
       "1400532655                      0                      0   \n",
       "140053271X                      0                      0   \n",
       "B00000DM9W                      0                      0   \n",
       "B00000J061                      0                      0   \n",
       "\n",
       "userId      A03541451A87X5FNV5K4H  A03621251INKKK9X82UZ8  \\\n",
       "productId                                                  \n",
       "0972683275                      0                      0   \n",
       "1400532655                      0                      0   \n",
       "140053271X                      0                      0   \n",
       "B00000DM9W                      0                      0   \n",
       "B00000J061                      0                      0   \n",
       "\n",
       "userId      A036229337Q1OHU0BSCIU  A0372063OSKBH23A8ABN  ...  AZX1JTWFRK1NT  \\\n",
       "productId                                                ...                  \n",
       "0972683275                      0                     0  ...              0   \n",
       "1400532655                      0                     0  ...              0   \n",
       "140053271X                      0                     0  ...              0   \n",
       "B00000DM9W                      0                     0  ...              0   \n",
       "B00000J061                      0                     0  ...              0   \n",
       "\n",
       "userId      AZX7GJRLMWN92  AZXWC30AT28Y8  AZXX7L6ABGC06  AZXYT7ZNTL8P9  \\\n",
       "productId                                                                \n",
       "0972683275              0              0              0              0   \n",
       "1400532655              0              0              0              0   \n",
       "140053271X              0              0              0              0   \n",
       "B00000DM9W              0              0              0              0   \n",
       "B00000J061              0              0              0              0   \n",
       "\n",
       "userId      AZY1ORGM0S2CD  AZZJZQGBP0GNE  AZZLZUR5X9GYE  AZZS13C32YSPH  \\\n",
       "productId                                                                \n",
       "0972683275              0              0              0              0   \n",
       "1400532655              0              0              0              0   \n",
       "140053271X              0              0              0              0   \n",
       "B00000DM9W              0              0              0              0   \n",
       "B00000J061              0              0              0              0   \n",
       "\n",
       "userId      AZZWPNME0GQZ2  \n",
       "productId                  \n",
       "0972683275              0  \n",
       "1400532655              0  \n",
       "140053271X              0  \n",
       "B00000DM9W              0  \n",
       "B00000J061              0  \n",
       "\n",
       "[5 rows x 19905 columns]"
      ]
     },
     "execution_count": 51,
     "metadata": {},
     "output_type": "execute_result"
    }
   ],
   "source": [
    "#transpose the metrix to make column (productId) as index and index as column (userId)\n",
    "x_ratings_matrix=ratings_matrix.T\n",
    "x_ratings_matrix.head()"
   ]
  },
  {
   "cell_type": "code",
   "execution_count": 52,
   "id": "1bf6e74d-1cbf-41cf-a0f1-a85e0df31270",
   "metadata": {},
   "outputs": [
    {
     "data": {
      "text/plain": [
       "(4372, 19905)"
      ]
     },
     "execution_count": 52,
     "metadata": {},
     "output_type": "execute_result"
    }
   ],
   "source": [
    "x_ratings_matrix.shape"
   ]
  },
  {
   "cell_type": "code",
   "execution_count": 53,
   "id": "95f9c571-e960-4901-8547-65e10d816466",
   "metadata": {},
   "outputs": [
    {
     "data": {
      "text/plain": [
       "(4372, 10)"
      ]
     },
     "execution_count": 53,
     "metadata": {},
     "output_type": "execute_result"
    }
   ],
   "source": [
    "#Decomposition of the matrix using Singular Value Decomposition technique\n",
    "from sklearn.decomposition import TruncatedSVD\n",
    "SVD = TruncatedSVD(n_components=10)\n",
    "decomposed_matrix = SVD.fit_transform(x_ratings_matrix)\n",
    "decomposed_matrix.shape"
   ]
  },
  {
   "cell_type": "code",
   "execution_count": 54,
   "id": "794a32bc-1cfc-44d6-a770-61ba5454bfe8",
   "metadata": {},
   "outputs": [
    {
     "data": {
      "text/plain": [
       "(4372, 4372)"
      ]
     },
     "execution_count": 54,
     "metadata": {},
     "output_type": "execute_result"
    }
   ],
   "source": [
    "#Correlation Matrix\n",
    "correlation_matrix = np.corrcoef(decomposed_matrix)\n",
    "correlation_matrix.shape"
   ]
  },
  {
   "cell_type": "code",
   "execution_count": 55,
   "id": "cc392cfc-85bb-4e3d-9463-b81c202dab4e",
   "metadata": {},
   "outputs": [
    {
     "data": {
      "text/plain": [
       "'B00004T8R2'"
      ]
     },
     "execution_count": 55,
     "metadata": {},
     "output_type": "execute_result"
    }
   ],
   "source": [
    "x_ratings_matrix.index[25]"
   ]
  },
  {
   "cell_type": "code",
   "execution_count": 56,
   "id": "ae1ecc2f-544a-459f-a1aa-081ca20247bd",
   "metadata": {},
   "outputs": [
    {
     "name": "stdout",
     "output_type": "stream",
     "text": [
      "11\n"
     ]
    }
   ],
   "source": [
    "i=\"B00001P4ZH\"\n",
    "product_names=list(x_ratings_matrix.index)\n",
    "product_id=product_names.index(i)\n",
    "print(product_id)"
   ]
  },
  {
   "cell_type": "code",
   "execution_count": 57,
   "id": "b1b79ebb-b71e-4751-8195-2219f0fb5bf9",
   "metadata": {},
   "outputs": [
    {
     "data": {
      "text/plain": [
       "(4372,)"
      ]
     },
     "execution_count": 57,
     "metadata": {},
     "output_type": "execute_result"
    }
   ],
   "source": [
    "correlation_product_ID = correlation_matrix[product_id]\n",
    "correlation_product_ID.shape"
   ]
  },
  {
   "cell_type": "code",
   "execution_count": 58,
   "id": "3fa63096-e0b3-4dac-ba5e-66384e3df13d",
   "metadata": {},
   "outputs": [
    {
     "data": {
      "text/plain": [
       "(1207, 4372)"
      ]
     },
     "execution_count": 58,
     "metadata": {},
     "output_type": "execute_result"
    }
   ],
   "source": [
    "correlation_matrix[correlation_product_ID>0.75].shape"
   ]
  },
  {
   "cell_type": "code",
   "execution_count": 59,
   "id": "6bc4fb24-ee6d-4d16-9f8a-7d1ca7f0c183",
   "metadata": {},
   "outputs": [
    {
     "data": {
      "text/plain": [
       "['B00001OWYM',\n",
       " 'B00001P4XA',\n",
       " 'B00001P4ZH',\n",
       " 'B00001W0DH',\n",
       " 'B00004T1XE',\n",
       " 'B00004THCZ',\n",
       " 'B00004WCIC',\n",
       " 'B00004WCID',\n",
       " 'B00004ZCJE',\n",
       " 'B0000510ZO',\n",
       " 'B00005A1K1',\n",
       " 'B00005BC0K',\n",
       " 'B00005LEN4',\n",
       " 'B00005NIMJ',\n",
       " 'B00005T380',\n",
       " 'B00005T3BD',\n",
       " 'B00005T406',\n",
       " 'B000063574',\n",
       " 'B000066E6Y',\n",
       " 'B000067RC4']"
      ]
     },
     "execution_count": 59,
     "metadata": {},
     "output_type": "execute_result"
    }
   ],
   "source": [
    "#Recommending top 20 highly correlated products in sequence\n",
    "recommend = list(x_ratings_matrix.index[correlation_product_ID > 0.75])\n",
    "recommend[:20]"
   ]
  }
 ],
 "metadata": {
  "kernelspec": {
   "display_name": "Python 3 (ipykernel)",
   "language": "python",
   "name": "python3"
  },
  "language_info": {
   "codemirror_mode": {
    "name": "ipython",
    "version": 3
   },
   "file_extension": ".py",
   "mimetype": "text/x-python",
   "name": "python",
   "nbconvert_exporter": "python",
   "pygments_lexer": "ipython3",
   "version": "3.11.4"
  }
 },
 "nbformat": 4,
 "nbformat_minor": 5
}
